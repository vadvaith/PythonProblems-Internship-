{
 "cells": [
  {
   "cell_type": "markdown",
   "metadata": {},
   "source": [
    "## ML on Titanic dataset\n",
    "\n",
    "- Applying different preprocessing method on the titanic data set\n",
    "- Using different machine learning models to predict survival of passenger"
   ]
  },
  {
   "cell_type": "code",
   "execution_count": 61,
   "metadata": {},
   "outputs": [],
   "source": [
    "#Importing libraries\n",
    "from sklearn import preprocessing\n",
    "from sklearn.preprocessing import StandardScaler,LabelEncoder\n",
    "from sklearn.linear_model import LogisticRegression\n",
    "from sklearn.neighbors import KNeighborsClassifier\n",
    "from sklearn.tree import DecisionTreeClassifier\n",
    "import pandas as pd\n",
    "import numpy as np\n",
    "import matplotlib.pyplot as plt"
   ]
  },
  {
   "cell_type": "code",
   "execution_count": 62,
   "metadata": {},
   "outputs": [
    {
     "data": {
      "text/html": [
       "<div>\n",
       "<style scoped>\n",
       "    .dataframe tbody tr th:only-of-type {\n",
       "        vertical-align: middle;\n",
       "    }\n",
       "\n",
       "    .dataframe tbody tr th {\n",
       "        vertical-align: top;\n",
       "    }\n",
       "\n",
       "    .dataframe thead th {\n",
       "        text-align: right;\n",
       "    }\n",
       "</style>\n",
       "<table border=\"1\" class=\"dataframe\">\n",
       "  <thead>\n",
       "    <tr style=\"text-align: right;\">\n",
       "      <th></th>\n",
       "      <th>PassengerId</th>\n",
       "      <th>Survived</th>\n",
       "      <th>Pclass</th>\n",
       "      <th>Name</th>\n",
       "      <th>Sex</th>\n",
       "      <th>Age</th>\n",
       "      <th>SibSp</th>\n",
       "      <th>Parch</th>\n",
       "      <th>Ticket</th>\n",
       "      <th>Fare</th>\n",
       "      <th>Cabin</th>\n",
       "      <th>Embarked</th>\n",
       "    </tr>\n",
       "  </thead>\n",
       "  <tbody>\n",
       "    <tr>\n",
       "      <th>0</th>\n",
       "      <td>1</td>\n",
       "      <td>0</td>\n",
       "      <td>3</td>\n",
       "      <td>Braund, Mr. Owen Harris</td>\n",
       "      <td>male</td>\n",
       "      <td>22.0</td>\n",
       "      <td>1</td>\n",
       "      <td>0</td>\n",
       "      <td>A/5 21171</td>\n",
       "      <td>7.2500</td>\n",
       "      <td>NaN</td>\n",
       "      <td>S</td>\n",
       "    </tr>\n",
       "    <tr>\n",
       "      <th>1</th>\n",
       "      <td>2</td>\n",
       "      <td>1</td>\n",
       "      <td>1</td>\n",
       "      <td>Cumings, Mrs. John Bradley (Florence Briggs Th...</td>\n",
       "      <td>female</td>\n",
       "      <td>38.0</td>\n",
       "      <td>1</td>\n",
       "      <td>0</td>\n",
       "      <td>PC 17599</td>\n",
       "      <td>71.2833</td>\n",
       "      <td>C85</td>\n",
       "      <td>C</td>\n",
       "    </tr>\n",
       "    <tr>\n",
       "      <th>2</th>\n",
       "      <td>3</td>\n",
       "      <td>1</td>\n",
       "      <td>3</td>\n",
       "      <td>Heikkinen, Miss. Laina</td>\n",
       "      <td>female</td>\n",
       "      <td>26.0</td>\n",
       "      <td>0</td>\n",
       "      <td>0</td>\n",
       "      <td>STON/O2. 3101282</td>\n",
       "      <td>7.9250</td>\n",
       "      <td>NaN</td>\n",
       "      <td>S</td>\n",
       "    </tr>\n",
       "    <tr>\n",
       "      <th>3</th>\n",
       "      <td>4</td>\n",
       "      <td>1</td>\n",
       "      <td>1</td>\n",
       "      <td>Futrelle, Mrs. Jacques Heath (Lily May Peel)</td>\n",
       "      <td>female</td>\n",
       "      <td>35.0</td>\n",
       "      <td>1</td>\n",
       "      <td>0</td>\n",
       "      <td>113803</td>\n",
       "      <td>53.1000</td>\n",
       "      <td>C123</td>\n",
       "      <td>S</td>\n",
       "    </tr>\n",
       "    <tr>\n",
       "      <th>4</th>\n",
       "      <td>5</td>\n",
       "      <td>0</td>\n",
       "      <td>3</td>\n",
       "      <td>Allen, Mr. William Henry</td>\n",
       "      <td>male</td>\n",
       "      <td>35.0</td>\n",
       "      <td>0</td>\n",
       "      <td>0</td>\n",
       "      <td>373450</td>\n",
       "      <td>8.0500</td>\n",
       "      <td>NaN</td>\n",
       "      <td>S</td>\n",
       "    </tr>\n",
       "  </tbody>\n",
       "</table>\n",
       "</div>"
      ],
      "text/plain": [
       "   PassengerId  Survived  Pclass  \\\n",
       "0            1         0       3   \n",
       "1            2         1       1   \n",
       "2            3         1       3   \n",
       "3            4         1       1   \n",
       "4            5         0       3   \n",
       "\n",
       "                                                Name     Sex   Age  SibSp  \\\n",
       "0                            Braund, Mr. Owen Harris    male  22.0      1   \n",
       "1  Cumings, Mrs. John Bradley (Florence Briggs Th...  female  38.0      1   \n",
       "2                             Heikkinen, Miss. Laina  female  26.0      0   \n",
       "3       Futrelle, Mrs. Jacques Heath (Lily May Peel)  female  35.0      1   \n",
       "4                           Allen, Mr. William Henry    male  35.0      0   \n",
       "\n",
       "   Parch            Ticket     Fare Cabin Embarked  \n",
       "0      0         A/5 21171   7.2500   NaN        S  \n",
       "1      0          PC 17599  71.2833   C85        C  \n",
       "2      0  STON/O2. 3101282   7.9250   NaN        S  \n",
       "3      0            113803  53.1000  C123        S  \n",
       "4      0            373450   8.0500   NaN        S  "
      ]
     },
     "execution_count": 62,
     "metadata": {},
     "output_type": "execute_result"
    }
   ],
   "source": [
    "#Loading data from CSV file\n",
    "train = pd.read_csv('train.csv')\n",
    "train.head()"
   ]
  },
  {
   "cell_type": "markdown",
   "metadata": {},
   "source": [
    "### Data Preprocessing"
   ]
  },
  {
   "cell_type": "code",
   "execution_count": 63,
   "metadata": {},
   "outputs": [],
   "source": [
    "#Dropping unwanted features\n",
    "train = train.drop(['Ticket','Fare','PassengerId'],axis=1)\n",
    "\n",
    "#Changing cabin details to deck details\n",
    "cabin_list = ['A', 'B', 'C', 'D', 'E', 'F', 'T', 'G', 'Unknown']\n",
    "train = train.rename(columns={'Cabin':'Deck'})\n",
    "\n",
    "for i,j in enumerate(train['Deck']):\n",
    "    if type(j) == str:\n",
    "        train.loc[[i],['Deck']] = j[0]\n",
    "    else:\n",
    "        train.loc[[i],['Deck']] ='Unknown'\n",
    "        \n",
    "#Extracting title from complete name and combining rare type into \"Others\"\n",
    "train['Name'] = train.Name.str.extract(' ([A-Za-z]+)\\.', expand=False)\n",
    "train = train.rename(columns={'Name':'Title'})\n",
    "train['Title'] = train['Title'].replace(['Dr','Rev','Sir','Lady','Countess','Col','Major','Capt','Jonkheer','Don'],'Others')\n",
    "train['Title'] = train['Title'].replace('Ms','Miss')\n",
    "train['Title'] = train['Title'].replace('Mme','Mrs')\n",
    "train['Title'] = train['Title'].replace('Mlle','Miss')\n",
    "\n",
    "\n",
    "#IMPUTATION OF EMBARKED COLUMN\n",
    "\n",
    "for i,j in enumerate(train['Embarked']):\n",
    "    if type(j) == float:\n",
    "        train.loc[[i],['Embarked']] ='S'  \n",
    "\n",
    "#IMPUTATION OF AGE COLUMN \n",
    "\n",
    "age = pd.Series(train['Age'])\n",
    "for i,j in enumerate(age.isnull()):\n",
    "    if j == True:\n",
    "        train.loc[[i],['Age']] = 0.0\n",
    "        \n",
    "title_list = ['Mr','Mrs','Master','Miss','Others']\n",
    "title_list.sort()\n",
    "age_avg = [0,0,0,0,0]\n",
    "non_zero_count=age_avg\n",
    "\n",
    "\n",
    "#COUNTING NON ZERO AGES IN EACH CATEGORY        \n",
    "for i, j in enumerate(title_list):\n",
    "    for m, n in enumerate(train['Title']):\n",
    "        if n == j and (train.loc[[m],['Age']]>0).bool():     #train.loc[[i],['Age']] gives dataframe.\n",
    "                                                           #Ambiguity error. Use df.bool()\n",
    "            non_zero_count[i]+= 1\n",
    "            \n",
    "title_sum=train.groupby('Title')['Age'].sum()\n",
    "\n",
    "for i,j in enumerate(title_sum):\n",
    "    age_avg[i] = title_sum[i] / non_zero_count[i]\n",
    "    \n",
    "    #REPLACING MISSING VALUES BY MEAN \n",
    "for i,j in enumerate(title_list):\n",
    "    for m,n in enumerate(train['Age']):\n",
    "        if (j == train.loc[[m],['Title']]).bool() and (train.loc[[m],['Age']] == 0).bool():\n",
    "            train.loc[[m],['Age']] = age_avg[i]\n",
    "            \n",
    "#LABEL ENCODING CATEGORICAL FEATURES            \n",
    "categ_col = ['Sex','Title','Deck','Embarked']\n",
    "for i in categ_col:\n",
    "    le = LabelEncoder()\n",
    "    le.fit(train[i])\n",
    "    train[i] = le.transform(train[i])\n",
    "    \n",
    "#STANDARDISING BECAUSE AGE VARIES OVER LARGE RANGE    \n",
    "sc = StandardScaler()\n",
    "sc.fit(train['Age'].values.reshape(-1,1))\n",
    "train['Age'] = sc.transform(train['Age'].values.reshape(-1,1))\n",
    "\n",
    "# ONEHOT ENCODING TO GET DIFFERENT COLUMNS FOR CATEGORICAL FEATURES\n",
    "#ADDING ROWS IS TIME CONSUMING, MORE COLUMNS MORE EFFICIENT\n",
    "    \n",
    "train = pd.get_dummies(train,columns = ['Sex','Embarked','Deck','Title'])"
   ]
  },
  {
   "cell_type": "code",
   "execution_count": 64,
   "metadata": {},
   "outputs": [],
   "source": [
    "#Selecting values for X and y (X is without survived column because it is target value)\n",
    "X = train.drop('Survived',axis = 1).values\n",
    "y = train['Survived'].values\n"
   ]
  },
  {
   "cell_type": "code",
   "execution_count": 65,
   "metadata": {},
   "outputs": [
    {
     "name": "stderr",
     "output_type": "stream",
     "text": [
      "C:\\Users\\VADVAI-CONT\\AppData\\Local\\Continuum\\anaconda3\\lib\\site-packages\\sklearn\\linear_model\\logistic.py:433: FutureWarning: Default solver will be changed to 'lbfgs' in 0.22. Specify a solver to silence this warning.\n",
      "  FutureWarning)\n"
     ]
    },
    {
     "data": {
      "text/plain": [
       "0.8395061728395061"
      ]
     },
     "execution_count": 65,
     "metadata": {},
     "output_type": "execute_result"
    }
   ],
   "source": [
    "#USING LOGISTIC REGRESSION MODEL,CREATING OBJECT AND FITTING\n",
    "log_reg = LogisticRegression()\n",
    "log_reg.fit(X,y)\n",
    "log_reg.score(X,y)"
   ]
  },
  {
   "cell_type": "code",
   "execution_count": 66,
   "metadata": {},
   "outputs": [
    {
     "data": {
      "text/plain": [
       "0.8641975308641975"
      ]
     },
     "execution_count": 66,
     "metadata": {},
     "output_type": "execute_result"
    }
   ],
   "source": [
    "#USING KNN CLASSIFIER MODEL,CREATING OBJECT AND FITTING\n",
    "knn_obj = KNeighborsClassifier()\n",
    "knn_obj.fit(X,y)\n",
    "knn_obj.score(X,y)"
   ]
  },
  {
   "cell_type": "code",
   "execution_count": 67,
   "metadata": {},
   "outputs": [
    {
     "data": {
      "text/plain": [
       "0.9506172839506173"
      ]
     },
     "execution_count": 67,
     "metadata": {},
     "output_type": "execute_result"
    }
   ],
   "source": [
    "#USING DECISION TREE MODEL,CREATING OBJECT AND FITTING\n",
    "dec_tree = DecisionTreeClassifier()\n",
    "dec_tree.fit(X,y)\n",
    "dec_tree.score(X,y)"
   ]
  },
  {
   "cell_type": "code",
   "execution_count": null,
   "metadata": {},
   "outputs": [],
   "source": []
  },
  {
   "cell_type": "code",
   "execution_count": null,
   "metadata": {},
   "outputs": [],
   "source": []
  },
  {
   "cell_type": "code",
   "execution_count": null,
   "metadata": {},
   "outputs": [],
   "source": []
  },
  {
   "cell_type": "code",
   "execution_count": null,
   "metadata": {},
   "outputs": [],
   "source": []
  },
  {
   "cell_type": "code",
   "execution_count": null,
   "metadata": {},
   "outputs": [],
   "source": []
  }
 ],
 "metadata": {
  "kernelspec": {
   "display_name": "Python 3",
   "language": "python",
   "name": "python3"
  },
  "language_info": {
   "codemirror_mode": {
    "name": "ipython",
    "version": 3
   },
   "file_extension": ".py",
   "mimetype": "text/x-python",
   "name": "python",
   "nbconvert_exporter": "python",
   "pygments_lexer": "ipython3",
   "version": "3.7.3"
  }
 },
 "nbformat": 4,
 "nbformat_minor": 2
}
